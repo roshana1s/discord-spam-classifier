{
 "cells": [
  {
   "cell_type": "markdown",
   "id": "3ddc9d96-bbae-4d60-8e5e-683c30383d7f",
   "metadata": {},
   "source": [
    "# Discord Spam Classification – Phase 1: SMS Spam Classifier using RoBERTa\n",
    "\n",
    "## Introduction\n",
    "Spam messages are a persistent problem in online communication platforms, including Discord. To build an effective Discord spam detection system, it is important to first develop a robust foundation by training a general spam classification model. This notebook covers Phase 1 of the project, where we focus on creating a spam classifier using publicly available SMS spam data.\n",
    "\n",
    "By fine-tuning a state-of-the-art language model (RoBERTa) on SMS spam messages, we aim to teach the model general spam detection capabilities. These learned patterns will then serve as a strong base for later adapting the model specifically to Discord spam messages in Phase 2. In this notebook, we begin the first phase of building a robust spam detection system for Discord messages by first training and evaluating a spam classifier on the publicly available **SMS Spam Collection Dataset**. This phase allows us to:\n",
    "\n",
    "- Build and evaluate a baseline spam classification model\n",
    "- Experiment with **RoBERTa**, a state-of-the-art transformer model\n",
    "- Gain insights into real-world performance on text spam classification\n",
    "- Prepare a solid foundation for Phase 2, where we will move to Discord-specific data\n",
    "\n",
    "## Objectives of This Phase\n",
    "\n",
    "- Preprocess SMS messages (clean, tokenize)\n",
    "- Fine-tune a pre-trained RoBERTa model on the dataset\n",
    "- Evaluate model performance using precision, recall, F1-score\n",
    "- Save the trained model for future comparison/use\n",
    "\n",
    "## Dataset: SMS Spam Collection\n",
    "\n",
    "For this notebook, we are using the **[SMS Spam Collection Dataset](https://www.kaggle.com/datasets/uciml/sms-spam-collection-dataset)** from UCI.\n",
    "\n",
    "### Dataset Structure\n",
    "- **`v1`**: Label (`ham` or `spam`)  \n",
    "- **`v2`**: The SMS message content  \n",
    "\n",
    "We'll preprocess the dataset by:\n",
    "- Renaming columns for clarity  \n",
    "- Converting labels to binary:\n",
    "  - `ham` → `0` (not spam)  \n",
    "  - `spam` → `1` (spam)  \n",
    "\n",
    "This binary classification will serve as Phase 1 of our larger **Discord Spam Detection** project.\n",
    "\n",
    "## Evaluation \n",
    "\n",
    "> Check with precision, recall, F1-score\n",
    "\n",
    "---"
   ]
  },
  {
   "cell_type": "markdown",
   "id": "7d133340-ba2c-4732-8bac-a721f1f38cb7",
   "metadata": {},
   "source": [
    "## Preparing the tools"
   ]
  },
  {
   "cell_type": "code",
   "execution_count": 88,
   "id": "6cd78a5f-e4db-4fa6-bcf5-c9e785d262a2",
   "metadata": {},
   "outputs": [],
   "source": [
    "# General libraries\n",
    "import pandas as pd\n",
    "import numpy as np\n",
    "import random\n",
    "\n",
    "# isualization\n",
    "import matplotlib.pyplot as plt\n",
    "import seaborn as sns\n",
    "\n",
    "# Sklearn - preprocessing and evaluation\n",
    "from sklearn.model_selection import train_test_split\n",
    "from sklearn.metrics import classification_report, confusion_matrix, accuracy_score, f1_score, precision_score, recall_score\n",
    "from sklearn.utils.class_weight import compute_class_weight\n",
    "\n",
    "# Hugging Face Transformers\n",
    "from transformers import RobertaTokenizer, RobertaForSequenceClassification\n",
    "from transformers import Trainer, TrainingArguments\n",
    "from transformers import DataCollatorWithPadding\n",
    "\n",
    "# Dataset\n",
    "from datasets import Dataset\n",
    "\n",
    "# PyTorch (used under the hood by transformers)\n",
    "import torch\n",
    "from torch import nn\n",
    "\n",
    "import sys\n",
    "import os\n",
    "\n",
    "# Add the root directory to sys.path\n",
    "sys.path.append(os.path.abspath('..'))\n",
    "\n",
    "# utils\n",
    "from utils.preprocess import preprocess_text"
   ]
  },
  {
   "cell_type": "markdown",
   "id": "d6bdef23-323f-4bd7-8ebf-2c3b1b47f868",
   "metadata": {},
   "source": [
    "## Load Data"
   ]
  },
  {
   "cell_type": "code",
   "execution_count": 57,
   "id": "1bcb26ba-0da5-4223-9027-a2d0b1ed0fac",
   "metadata": {},
   "outputs": [
    {
     "data": {
      "text/html": [
       "<div>\n",
       "<style scoped>\n",
       "    .dataframe tbody tr th:only-of-type {\n",
       "        vertical-align: middle;\n",
       "    }\n",
       "\n",
       "    .dataframe tbody tr th {\n",
       "        vertical-align: top;\n",
       "    }\n",
       "\n",
       "    .dataframe thead th {\n",
       "        text-align: right;\n",
       "    }\n",
       "</style>\n",
       "<table border=\"1\" class=\"dataframe\">\n",
       "  <thead>\n",
       "    <tr style=\"text-align: right;\">\n",
       "      <th></th>\n",
       "      <th>v1</th>\n",
       "      <th>v2</th>\n",
       "      <th>Unnamed: 2</th>\n",
       "      <th>Unnamed: 3</th>\n",
       "      <th>Unnamed: 4</th>\n",
       "    </tr>\n",
       "  </thead>\n",
       "  <tbody>\n",
       "    <tr>\n",
       "      <th>0</th>\n",
       "      <td>ham</td>\n",
       "      <td>Go until jurong point, crazy.. Available only ...</td>\n",
       "      <td>NaN</td>\n",
       "      <td>NaN</td>\n",
       "      <td>NaN</td>\n",
       "    </tr>\n",
       "    <tr>\n",
       "      <th>1</th>\n",
       "      <td>ham</td>\n",
       "      <td>Ok lar... Joking wif u oni...</td>\n",
       "      <td>NaN</td>\n",
       "      <td>NaN</td>\n",
       "      <td>NaN</td>\n",
       "    </tr>\n",
       "    <tr>\n",
       "      <th>2</th>\n",
       "      <td>spam</td>\n",
       "      <td>Free entry in 2 a wkly comp to win FA Cup fina...</td>\n",
       "      <td>NaN</td>\n",
       "      <td>NaN</td>\n",
       "      <td>NaN</td>\n",
       "    </tr>\n",
       "    <tr>\n",
       "      <th>3</th>\n",
       "      <td>ham</td>\n",
       "      <td>U dun say so early hor... U c already then say...</td>\n",
       "      <td>NaN</td>\n",
       "      <td>NaN</td>\n",
       "      <td>NaN</td>\n",
       "    </tr>\n",
       "    <tr>\n",
       "      <th>4</th>\n",
       "      <td>ham</td>\n",
       "      <td>Nah I don't think he goes to usf, he lives aro...</td>\n",
       "      <td>NaN</td>\n",
       "      <td>NaN</td>\n",
       "      <td>NaN</td>\n",
       "    </tr>\n",
       "  </tbody>\n",
       "</table>\n",
       "</div>"
      ],
      "text/plain": [
       "     v1                                                 v2 Unnamed: 2  \\\n",
       "0   ham  Go until jurong point, crazy.. Available only ...        NaN   \n",
       "1   ham                      Ok lar... Joking wif u oni...        NaN   \n",
       "2  spam  Free entry in 2 a wkly comp to win FA Cup fina...        NaN   \n",
       "3   ham  U dun say so early hor... U c already then say...        NaN   \n",
       "4   ham  Nah I don't think he goes to usf, he lives aro...        NaN   \n",
       "\n",
       "  Unnamed: 3 Unnamed: 4  \n",
       "0        NaN        NaN  \n",
       "1        NaN        NaN  \n",
       "2        NaN        NaN  \n",
       "3        NaN        NaN  \n",
       "4        NaN        NaN  "
      ]
     },
     "execution_count": 57,
     "metadata": {},
     "output_type": "execute_result"
    }
   ],
   "source": [
    "df = pd.read_csv(\"../data/sms_spam.csv\", encoding=\"latin1\")\n",
    "df.head()"
   ]
  },
  {
   "cell_type": "code",
   "execution_count": 58,
   "id": "35fba8c3-f059-4baa-b4f9-4c4c5d903213",
   "metadata": {},
   "outputs": [
    {
     "data": {
      "text/html": [
       "<div>\n",
       "<style scoped>\n",
       "    .dataframe tbody tr th:only-of-type {\n",
       "        vertical-align: middle;\n",
       "    }\n",
       "\n",
       "    .dataframe tbody tr th {\n",
       "        vertical-align: top;\n",
       "    }\n",
       "\n",
       "    .dataframe thead th {\n",
       "        text-align: right;\n",
       "    }\n",
       "</style>\n",
       "<table border=\"1\" class=\"dataframe\">\n",
       "  <thead>\n",
       "    <tr style=\"text-align: right;\">\n",
       "      <th></th>\n",
       "      <th>label</th>\n",
       "      <th>text</th>\n",
       "    </tr>\n",
       "  </thead>\n",
       "  <tbody>\n",
       "    <tr>\n",
       "      <th>0</th>\n",
       "      <td>ham</td>\n",
       "      <td>Go until jurong point, crazy.. Available only ...</td>\n",
       "    </tr>\n",
       "    <tr>\n",
       "      <th>1</th>\n",
       "      <td>ham</td>\n",
       "      <td>Ok lar... Joking wif u oni...</td>\n",
       "    </tr>\n",
       "    <tr>\n",
       "      <th>2</th>\n",
       "      <td>spam</td>\n",
       "      <td>Free entry in 2 a wkly comp to win FA Cup fina...</td>\n",
       "    </tr>\n",
       "    <tr>\n",
       "      <th>3</th>\n",
       "      <td>ham</td>\n",
       "      <td>U dun say so early hor... U c already then say...</td>\n",
       "    </tr>\n",
       "    <tr>\n",
       "      <th>4</th>\n",
       "      <td>ham</td>\n",
       "      <td>Nah I don't think he goes to usf, he lives aro...</td>\n",
       "    </tr>\n",
       "  </tbody>\n",
       "</table>\n",
       "</div>"
      ],
      "text/plain": [
       "  label                                               text\n",
       "0   ham  Go until jurong point, crazy.. Available only ...\n",
       "1   ham                      Ok lar... Joking wif u oni...\n",
       "2  spam  Free entry in 2 a wkly comp to win FA Cup fina...\n",
       "3   ham  U dun say so early hor... U c already then say...\n",
       "4   ham  Nah I don't think he goes to usf, he lives aro..."
      ]
     },
     "execution_count": 58,
     "metadata": {},
     "output_type": "execute_result"
    }
   ],
   "source": [
    "df = df[['v1', 'v2']]  # Keep only label and message\n",
    "df.columns = ['label', 'text']  # Rename for consistency\n",
    "df.head()"
   ]
  },
  {
   "cell_type": "code",
   "execution_count": 59,
   "id": "e49d9b3a-9fa1-4ca4-a97e-57683f277e81",
   "metadata": {},
   "outputs": [
    {
     "data": {
      "text/html": [
       "<div>\n",
       "<style scoped>\n",
       "    .dataframe tbody tr th:only-of-type {\n",
       "        vertical-align: middle;\n",
       "    }\n",
       "\n",
       "    .dataframe tbody tr th {\n",
       "        vertical-align: top;\n",
       "    }\n",
       "\n",
       "    .dataframe thead th {\n",
       "        text-align: right;\n",
       "    }\n",
       "</style>\n",
       "<table border=\"1\" class=\"dataframe\">\n",
       "  <thead>\n",
       "    <tr style=\"text-align: right;\">\n",
       "      <th></th>\n",
       "      <th>label</th>\n",
       "      <th>text</th>\n",
       "    </tr>\n",
       "  </thead>\n",
       "  <tbody>\n",
       "    <tr>\n",
       "      <th>0</th>\n",
       "      <td>0</td>\n",
       "      <td>Go until jurong point, crazy.. Available only ...</td>\n",
       "    </tr>\n",
       "    <tr>\n",
       "      <th>1</th>\n",
       "      <td>0</td>\n",
       "      <td>Ok lar... Joking wif u oni...</td>\n",
       "    </tr>\n",
       "    <tr>\n",
       "      <th>2</th>\n",
       "      <td>1</td>\n",
       "      <td>Free entry in 2 a wkly comp to win FA Cup fina...</td>\n",
       "    </tr>\n",
       "    <tr>\n",
       "      <th>3</th>\n",
       "      <td>0</td>\n",
       "      <td>U dun say so early hor... U c already then say...</td>\n",
       "    </tr>\n",
       "    <tr>\n",
       "      <th>4</th>\n",
       "      <td>0</td>\n",
       "      <td>Nah I don't think he goes to usf, he lives aro...</td>\n",
       "    </tr>\n",
       "  </tbody>\n",
       "</table>\n",
       "</div>"
      ],
      "text/plain": [
       "   label                                               text\n",
       "0      0  Go until jurong point, crazy.. Available only ...\n",
       "1      0                      Ok lar... Joking wif u oni...\n",
       "2      1  Free entry in 2 a wkly comp to win FA Cup fina...\n",
       "3      0  U dun say so early hor... U c already then say...\n",
       "4      0  Nah I don't think he goes to usf, he lives aro..."
      ]
     },
     "execution_count": 59,
     "metadata": {},
     "output_type": "execute_result"
    }
   ],
   "source": [
    "# Convert labels to numbers\n",
    "# Convert spam/ham to 1/0\n",
    "df['label'] = df['label'].map({'ham': 0, 'spam': 1})\n",
    "df.head()"
   ]
  },
  {
   "cell_type": "code",
   "execution_count": 60,
   "id": "180712a2-9855-47c0-92d1-c1a0456563c2",
   "metadata": {},
   "outputs": [
    {
     "data": {
      "text/plain": [
       "label\n",
       "0    4825\n",
       "1     747\n",
       "Name: count, dtype: int64"
      ]
     },
     "execution_count": 60,
     "metadata": {},
     "output_type": "execute_result"
    }
   ],
   "source": [
    "df[\"label\"].value_counts()"
   ]
  },
  {
   "cell_type": "code",
   "execution_count": 61,
   "id": "734bf3f8-e76c-4fb4-889b-4b181ffd98f0",
   "metadata": {},
   "outputs": [
    {
     "name": "stdout",
     "output_type": "stream",
     "text": [
      "<class 'pandas.core.frame.DataFrame'>\n",
      "RangeIndex: 5572 entries, 0 to 5571\n",
      "Data columns (total 2 columns):\n",
      " #   Column  Non-Null Count  Dtype \n",
      "---  ------  --------------  ----- \n",
      " 0   label   5572 non-null   int64 \n",
      " 1   text    5572 non-null   object\n",
      "dtypes: int64(1), object(1)\n",
      "memory usage: 87.2+ KB\n"
     ]
    }
   ],
   "source": [
    "df.info()"
   ]
  },
  {
   "cell_type": "code",
   "execution_count": 62,
   "id": "69256836-3fc9-4a31-a0ff-4c909f4156c8",
   "metadata": {},
   "outputs": [
    {
     "data": {
      "text/plain": [
       "label    0\n",
       "text     0\n",
       "dtype: int64"
      ]
     },
     "execution_count": 62,
     "metadata": {},
     "output_type": "execute_result"
    }
   ],
   "source": [
    "df.isna().sum()"
   ]
  },
  {
   "cell_type": "code",
   "execution_count": 63,
   "id": "8238d6cd-f501-4dd8-8b63-f77809fc26cf",
   "metadata": {},
   "outputs": [
    {
     "data": {
      "image/png": "[encoded data removed]",
      "text/plain": [
       "<Figure size 600x400 with 1 Axes>"
      ]
     },
     "metadata": {},
     "output_type": "display_data"
    }
   ],
   "source": [
    "df[\"label\"].value_counts().plot(kind='bar', figsize=(6,4))\n",
    "plt.title(\"Spam vs Ham Message Counts\")\n",
    "plt.xlabel(\"Message Type\")\n",
    "plt.ylabel(\"Count\")\n",
    "plt.xticks(ticks=[0,1], labels=['Ham', 'Spam'], rotation=0)\n",
    "plt.show()"
   ]
  },
  {
   "cell_type": "code",
   "execution_count": 64,
   "id": "b5d5e819-83d2-48b4-b086-864179ecdf3e",
   "metadata": {},
   "outputs": [
    {
     "data": {
      "image/png": "[encoded data removed]",
      "text/plain": [
       "<Figure size 800x500 with 1 Axes>"
      ]
     },
     "metadata": {},
     "output_type": "display_data"
    }
   ],
   "source": [
    "df[\"len\"] = df[\"text\"].apply(len)\n",
    "\n",
    "# Plot text length distribution\n",
    "plt.figure(figsize=(8, 5))\n",
    "sns.histplot(data=df, x=\"len\", hue='label', bins=50, kde=True, palette='pastel')\n",
    "plt.title(\"Text Length Distribution by Label\")\n",
    "plt.xlabel(\"Message Length (Characters)\")\n",
    "plt.ylabel(\"Frequency\")\n",
    "plt.tight_layout()\n",
    "plt.show();"
   ]
  },
  {
   "cell_type": "markdown",
   "id": "bfaa3923-a4db-4e45-b102-e5ad55e9e32f",
   "metadata": {},
   "source": [
    "## Clean Data"
   ]
  },
  {
   "cell_type": "code",
   "execution_count": 65,
   "id": "c6c4b0b9-de49-4a17-bb41-38a53190d5b4",
   "metadata": {},
   "outputs": [],
   "source": [
    "df[\"cleaned_text\"] = df[\"text\"].apply(preprocess_text)"
   ]
  },
  {
   "cell_type": "code",
   "execution_count": 66,
   "id": "08b19c30-3679-4212-89be-06d1ed92d1c5",
   "metadata": {},
   "outputs": [
    {
     "data": {
      "text/plain": [
       "'Hiiii bro go <DISCORD_INVITE> and join live on <URL>'"
      ]
     },
     "execution_count": 66,
     "metadata": {},
     "output_type": "execute_result"
    }
   ],
   "source": [
    "preprocess_text(\"Hiiii bro go www.discord.gg/invite/sdfsdf and join live on www.steam.com\")"
   ]
  },
  {
   "cell_type": "code",
   "execution_count": 67,
   "id": "26a8076a-a113-4556-9b81-f9f98a604e89",
   "metadata": {},
   "outputs": [
    {
     "data": {
      "text/html": [
       "<div>\n",
       "<style scoped>\n",
       "    .dataframe tbody tr th:only-of-type {\n",
       "        vertical-align: middle;\n",
       "    }\n",
       "\n",
       "    .dataframe tbody tr th {\n",
       "        vertical-align: top;\n",
       "    }\n",
       "\n",
       "    .dataframe thead th {\n",
       "        text-align: right;\n",
       "    }\n",
       "</style>\n",
       "<table border=\"1\" class=\"dataframe\">\n",
       "  <thead>\n",
       "    <tr style=\"text-align: right;\">\n",
       "      <th></th>\n",
       "      <th>label</th>\n",
       "      <th>text</th>\n",
       "      <th>len</th>\n",
       "      <th>cleaned_text</th>\n",
       "    </tr>\n",
       "  </thead>\n",
       "  <tbody>\n",
       "    <tr>\n",
       "      <th>0</th>\n",
       "      <td>0</td>\n",
       "      <td>Go until jurong point, crazy.. Available only ...</td>\n",
       "      <td>111</td>\n",
       "      <td>Go until jurong point, crazy.. Available only ...</td>\n",
       "    </tr>\n",
       "    <tr>\n",
       "      <th>1</th>\n",
       "      <td>0</td>\n",
       "      <td>Ok lar... Joking wif u oni...</td>\n",
       "      <td>29</td>\n",
       "      <td>Ok lar... Joking wif u oni...</td>\n",
       "    </tr>\n",
       "    <tr>\n",
       "      <th>2</th>\n",
       "      <td>1</td>\n",
       "      <td>Free entry in 2 a wkly comp to win FA Cup fina...</td>\n",
       "      <td>155</td>\n",
       "      <td>Free entry in 2 a wkly comp to win FA Cup fina...</td>\n",
       "    </tr>\n",
       "    <tr>\n",
       "      <th>3</th>\n",
       "      <td>0</td>\n",
       "      <td>U dun say so early hor... U c already then say...</td>\n",
       "      <td>49</td>\n",
       "      <td>U dun say so early hor... U c already then say...</td>\n",
       "    </tr>\n",
       "    <tr>\n",
       "      <th>4</th>\n",
       "      <td>0</td>\n",
       "      <td>Nah I don't think he goes to usf, he lives aro...</td>\n",
       "      <td>61</td>\n",
       "      <td>Nah I don't think he goes to usf, he lives aro...</td>\n",
       "    </tr>\n",
       "    <tr>\n",
       "      <th>...</th>\n",
       "      <td>...</td>\n",
       "      <td>...</td>\n",
       "      <td>...</td>\n",
       "      <td>...</td>\n",
       "    </tr>\n",
       "    <tr>\n",
       "      <th>5567</th>\n",
       "      <td>1</td>\n",
       "      <td>This is the 2nd time we have tried 2 contact u...</td>\n",
       "      <td>161</td>\n",
       "      <td>This is the 2nd time we have tried 2 contact u...</td>\n",
       "    </tr>\n",
       "    <tr>\n",
       "      <th>5568</th>\n",
       "      <td>0</td>\n",
       "      <td>Will Ì_ b going to esplanade fr home?</td>\n",
       "      <td>37</td>\n",
       "      <td>Will Ì_ b going to esplanade fr home?</td>\n",
       "    </tr>\n",
       "    <tr>\n",
       "      <th>5569</th>\n",
       "      <td>0</td>\n",
       "      <td>Pity, * was in mood for that. So...any other s...</td>\n",
       "      <td>57</td>\n",
       "      <td>Pity, * was in mood for that. So...any other s...</td>\n",
       "    </tr>\n",
       "    <tr>\n",
       "      <th>5570</th>\n",
       "      <td>0</td>\n",
       "      <td>The guy did some bitching but I acted like i'd...</td>\n",
       "      <td>125</td>\n",
       "      <td>The guy did some bitching but I acted like i'd...</td>\n",
       "    </tr>\n",
       "    <tr>\n",
       "      <th>5571</th>\n",
       "      <td>0</td>\n",
       "      <td>Rofl. Its true to its name</td>\n",
       "      <td>26</td>\n",
       "      <td>Rofl. Its true to its name</td>\n",
       "    </tr>\n",
       "  </tbody>\n",
       "</table>\n",
       "<p>5572 rows × 4 columns</p>\n",
       "</div>"
      ],
      "text/plain": [
       "      label                                               text  len  \\\n",
       "0         0  Go until jurong point, crazy.. Available only ...  111   \n",
       "1         0                      Ok lar... Joking wif u oni...   29   \n",
       "2         1  Free entry in 2 a wkly comp to win FA Cup fina...  155   \n",
       "3         0  U dun say so early hor... U c already then say...   49   \n",
       "4         0  Nah I don't think he goes to usf, he lives aro...   61   \n",
       "...     ...                                                ...  ...   \n",
       "5567      1  This is the 2nd time we have tried 2 contact u...  161   \n",
       "5568      0              Will Ì_ b going to esplanade fr home?   37   \n",
       "5569      0  Pity, * was in mood for that. So...any other s...   57   \n",
       "5570      0  The guy did some bitching but I acted like i'd...  125   \n",
       "5571      0                         Rofl. Its true to its name   26   \n",
       "\n",
       "                                           cleaned_text  \n",
       "0     Go until jurong point, crazy.. Available only ...  \n",
       "1                         Ok lar... Joking wif u oni...  \n",
       "2     Free entry in 2 a wkly comp to win FA Cup fina...  \n",
       "3     U dun say so early hor... U c already then say...  \n",
       "4     Nah I don't think he goes to usf, he lives aro...  \n",
       "...                                                 ...  \n",
       "5567  This is the 2nd time we have tried 2 contact u...  \n",
       "5568              Will Ì_ b going to esplanade fr home?  \n",
       "5569  Pity, * was in mood for that. So...any other s...  \n",
       "5570  The guy did some bitching but I acted like i'd...  \n",
       "5571                         Rofl. Its true to its name  \n",
       "\n",
       "[5572 rows x 4 columns]"
      ]
     },
     "execution_count": 67,
     "metadata": {},
     "output_type": "execute_result"
    }
   ],
   "source": [
    "df"
   ]
  },
  {
   "cell_type": "markdown",
   "id": "eaf1604e-520b-48fc-a496-5544c657c978",
   "metadata": {},
   "source": [
    "## Split Data"
   ]
  },
  {
   "cell_type": "code",
   "execution_count": 68,
   "id": "05b66884-4b11-47da-be81-923bc9ca1d6e",
   "metadata": {},
   "outputs": [],
   "source": [
    "# Split data - preserve class distribution\n",
    "train_df, temp_df = train_test_split(\n",
    "    df, \n",
    "    test_size=0.3, \n",
    "    random_state=42,\n",
    "    stratify=df['label']  # Maintain class balance in splits\n",
    ")\n",
    "val_df, test_df = train_test_split(\n",
    "    temp_df, \n",
    "    test_size=0.5, \n",
    "    random_state=42,\n",
    "    stratify=temp_df['label']\n",
    ")"
   ]
  },
  {
   "cell_type": "code",
   "execution_count": 69,
   "id": "3f0c318e-4a0c-455b-a181-a42c056afd27",
   "metadata": {},
   "outputs": [
    {
     "data": {
      "text/plain": [
       "((3900, 4), (836, 4), (836, 4))"
      ]
     },
     "execution_count": 69,
     "metadata": {},
     "output_type": "execute_result"
    }
   ],
   "source": [
    "train_df.shape, val_df.shape, test_df.shape"
   ]
  },
  {
   "cell_type": "code",
   "execution_count": 70,
   "id": "0b092250-6c4e-4dac-8d58-5e16d8697f9d",
   "metadata": {},
   "outputs": [
    {
     "data": {
      "text/plain": [
       "label\n",
       "0    3377\n",
       "1     523\n",
       "Name: count, dtype: int64"
      ]
     },
     "execution_count": 70,
     "metadata": {},
     "output_type": "execute_result"
    }
   ],
   "source": [
    "train_df[\"label\"].value_counts()"
   ]
  },
  {
   "cell_type": "code",
   "execution_count": 71,
   "id": "cfc0fe4c-7c99-404b-8558-fe9444cc4329",
   "metadata": {},
   "outputs": [
    {
     "data": {
      "text/plain": [
       "label\n",
       "0    724\n",
       "1    112\n",
       "Name: count, dtype: int64"
      ]
     },
     "execution_count": 71,
     "metadata": {},
     "output_type": "execute_result"
    }
   ],
   "source": [
    "val_df[\"label\"].value_counts()"
   ]
  },
  {
   "cell_type": "code",
   "execution_count": 72,
   "id": "6f0b7624-a8d2-4524-91f5-e30d820afe9d",
   "metadata": {},
   "outputs": [
    {
     "data": {
      "text/plain": [
       "label\n",
       "0    724\n",
       "1    112\n",
       "Name: count, dtype: int64"
      ]
     },
     "execution_count": 72,
     "metadata": {},
     "output_type": "execute_result"
    }
   ],
   "source": [
    "test_df[\"label\"].value_counts()"
   ]
  },
  {
   "cell_type": "code",
   "execution_count": 73,
   "id": "7b9e21e6-bb2f-43e3-a4a5-5dab2769125a",
   "metadata": {},
   "outputs": [
    {
     "data": {
      "text/html": [
       "<div>\n",
       "<style scoped>\n",
       "    .dataframe tbody tr th:only-of-type {\n",
       "        vertical-align: middle;\n",
       "    }\n",
       "\n",
       "    .dataframe tbody tr th {\n",
       "        vertical-align: top;\n",
       "    }\n",
       "\n",
       "    .dataframe thead th {\n",
       "        text-align: right;\n",
       "    }\n",
       "</style>\n",
       "<table border=\"1\" class=\"dataframe\">\n",
       "  <thead>\n",
       "    <tr style=\"text-align: right;\">\n",
       "      <th></th>\n",
       "      <th>label</th>\n",
       "      <th>text</th>\n",
       "      <th>len</th>\n",
       "      <th>cleaned_text</th>\n",
       "    </tr>\n",
       "  </thead>\n",
       "  <tbody>\n",
       "    <tr>\n",
       "      <th>4912</th>\n",
       "      <td>1</td>\n",
       "      <td>Goal! Arsenal 4 (Henry, 7 v Liverpool 2 Henry ...</td>\n",
       "      <td>155</td>\n",
       "      <td>Goal! Arsenal 4 (Henry, 7 v Liverpool 2 Henry ...</td>\n",
       "    </tr>\n",
       "    <tr>\n",
       "      <th>2541</th>\n",
       "      <td>0</td>\n",
       "      <td>I dont. Can you send it to me. Plus how's mode.</td>\n",
       "      <td>47</td>\n",
       "      <td>I dont. Can you send it to me. Plus how's mode.</td>\n",
       "    </tr>\n",
       "    <tr>\n",
       "      <th>5323</th>\n",
       "      <td>0</td>\n",
       "      <td>Aah bless! How's your arm?</td>\n",
       "      <td>26</td>\n",
       "      <td>Aah bless! How's your arm?</td>\n",
       "    </tr>\n",
       "    <tr>\n",
       "      <th>5171</th>\n",
       "      <td>0</td>\n",
       "      <td>Oh k. . I will come tomorrow</td>\n",
       "      <td>28</td>\n",
       "      <td>Oh k. . I will come tomorrow</td>\n",
       "    </tr>\n",
       "    <tr>\n",
       "      <th>2532</th>\n",
       "      <td>0</td>\n",
       "      <td>Yup ok...</td>\n",
       "      <td>9</td>\n",
       "      <td>Yup ok...</td>\n",
       "    </tr>\n",
       "    <tr>\n",
       "      <th>...</th>\n",
       "      <td>...</td>\n",
       "      <td>...</td>\n",
       "      <td>...</td>\n",
       "      <td>...</td>\n",
       "    </tr>\n",
       "    <tr>\n",
       "      <th>3185</th>\n",
       "      <td>0</td>\n",
       "      <td>Happy birthday to you....dear.with lots of lov...</td>\n",
       "      <td>59</td>\n",
       "      <td>Happy birthday to you....dear.with lots of lov...</td>\n",
       "    </tr>\n",
       "    <tr>\n",
       "      <th>607</th>\n",
       "      <td>0</td>\n",
       "      <td>what I meant to say is cant wait to see u agai...</td>\n",
       "      <td>87</td>\n",
       "      <td>what I meant to say is cant wait to see u agai...</td>\n",
       "    </tr>\n",
       "    <tr>\n",
       "      <th>552</th>\n",
       "      <td>0</td>\n",
       "      <td>Sure, if I get an acknowledgement from you tha...</td>\n",
       "      <td>120</td>\n",
       "      <td>Sure, if I get an acknowledgement from you tha...</td>\n",
       "    </tr>\n",
       "    <tr>\n",
       "      <th>763</th>\n",
       "      <td>0</td>\n",
       "      <td>Nothing but we jus tot u would ask cos u ba gu...</td>\n",
       "      <td>151</td>\n",
       "      <td>Nothing but we jus tot u would ask cos u ba gu...</td>\n",
       "    </tr>\n",
       "    <tr>\n",
       "      <th>3393</th>\n",
       "      <td>0</td>\n",
       "      <td>Bull. Your plan was to go floating off to IKEA...</td>\n",
       "      <td>129</td>\n",
       "      <td>Bull. Your plan was to go floating off to IKEA...</td>\n",
       "    </tr>\n",
       "  </tbody>\n",
       "</table>\n",
       "<p>3900 rows × 4 columns</p>\n",
       "</div>"
      ],
      "text/plain": [
       "      label                                               text  len  \\\n",
       "4912      1  Goal! Arsenal 4 (Henry, 7 v Liverpool 2 Henry ...  155   \n",
       "2541      0    I dont. Can you send it to me. Plus how's mode.   47   \n",
       "5323      0                         Aah bless! How's your arm?   26   \n",
       "5171      0                       Oh k. . I will come tomorrow   28   \n",
       "2532      0                                          Yup ok...    9   \n",
       "...     ...                                                ...  ...   \n",
       "3185      0  Happy birthday to you....dear.with lots of lov...   59   \n",
       "607       0  what I meant to say is cant wait to see u agai...   87   \n",
       "552       0  Sure, if I get an acknowledgement from you tha...  120   \n",
       "763       0  Nothing but we jus tot u would ask cos u ba gu...  151   \n",
       "3393      0  Bull. Your plan was to go floating off to IKEA...  129   \n",
       "\n",
       "                                           cleaned_text  \n",
       "4912  Goal! Arsenal 4 (Henry, 7 v Liverpool 2 Henry ...  \n",
       "2541    I dont. Can you send it to me. Plus how's mode.  \n",
       "5323                         Aah bless! How's your arm?  \n",
       "5171                       Oh k. . I will come tomorrow  \n",
       "2532                                          Yup ok...  \n",
       "...                                                 ...  \n",
       "3185  Happy birthday to you....dear.with lots of lov...  \n",
       "607   what I meant to say is cant wait to see u agai...  \n",
       "552   Sure, if I get an acknowledgement from you tha...  \n",
       "763   Nothing but we jus tot u would ask cos u ba gu...  \n",
       "3393  Bull. Your plan was to go floating off to IKEA...  \n",
       "\n",
       "[3900 rows x 4 columns]"
      ]
     },
     "execution_count": 73,
     "metadata": {},
     "output_type": "execute_result"
    }
   ],
   "source": [
    "train_df"
   ]
  },
  {
   "cell_type": "markdown",
   "id": "52abdb54-bd56-433b-87cc-7d093539e08b",
   "metadata": {},
   "source": [
    "We know that in this dataset, class imbalance is high. So, we need to have weighted trainer for that."
   ]
  },
  {
   "cell_type": "markdown",
   "id": "2dda80da-dfb7-4615-91c9-ffd1e199abe3",
   "metadata": {},
   "source": [
    "## Compute Class Weights"
   ]
  },
  {
   "cell_type": "code",
   "execution_count": 74,
   "id": "addf8a88-45dd-4e81-afdd-df3321d323b0",
   "metadata": {},
   "outputs": [
    {
     "name": "stdout",
     "output_type": "stream",
     "text": [
      "Class weights: [0.57743559 3.72848948]\n"
     ]
    }
   ],
   "source": [
    "# Calculate weights based on TRAINING SET only\n",
    "class_weights = compute_class_weight(\n",
    "    class_weight='balanced',\n",
    "    classes=np.unique(train_df['label']),\n",
    "    y=train_df['label']\n",
    ")\n",
    "\n",
    "print(f\"Class weights: {class_weights}\")\n",
    "# Example output: [0.588, 3.333] for 85/15 split\n",
    "\n",
    "# Convert to PyTorch tensor\n",
    "class_weights = torch.tensor(class_weights, dtype=torch.float)"
   ]
  },
  {
   "cell_type": "markdown",
   "id": "a625c518-1e9c-4de7-be88-282c2db7c4c8",
   "metadata": {},
   "source": [
    "## Tokenization"
   ]
  },
  {
   "cell_type": "code",
   "execution_count": 75,
   "id": "029a683e-6a96-48d3-9109-20433246c2c8",
   "metadata": {},
   "outputs": [],
   "source": [
    "tokenizer = RobertaTokenizer.from_pretrained('FacebookAI/roberta-base')"
   ]
  },
  {
   "cell_type": "code",
   "execution_count": 76,
   "id": "fb461d28-7e13-4c8b-9511-7073ef9f9411",
   "metadata": {},
   "outputs": [],
   "source": [
    "# Analyze optimal sequence length\n",
    "token_lengths = train_df['cleaned_text'].apply(lambda x: len(tokenizer.tokenize(x)))\n",
    "optimal_max_len = int(np.percentile(token_lengths, 95)) + 5  # 95th percentile + buffer"
   ]
  },
  {
   "cell_type": "code",
   "execution_count": 77,
   "id": "75d80695-23ff-4359-8797-2759bab83ef2",
   "metadata": {},
   "outputs": [
    {
     "data": {
      "text/plain": [
       "57"
      ]
     },
     "execution_count": 77,
     "metadata": {},
     "output_type": "execute_result"
    }
   ],
   "source": [
    "optimal_max_len"
   ]
  },
  {
   "cell_type": "code",
   "execution_count": 78,
   "id": "4c7479c0-541e-4110-937b-e84792f121e3",
   "metadata": {},
   "outputs": [],
   "source": [
    "def tokenize_function(batch):\n",
    "    try:\n",
    "        return tokenizer(\n",
    "            batch['text'],\n",
    "            truncation=True,\n",
    "            max_length=min(optimal_max_len, 512),\n",
    "            padding=False,\n",
    "            return_attention_mask=True,\n",
    "            return_tensors=None\n",
    "        )\n",
    "    except Exception as e:\n",
    "        print(f\"Tokenization error: {e}\")\n",
    "        raise"
   ]
  },
  {
   "cell_type": "code",
   "execution_count": 79,
   "id": "dcafc6cb-e251-43f8-805e-637ec19092cf",
   "metadata": {},
   "outputs": [],
   "source": [
    "# 1. Select only necessary columns\n",
    "train_df = train_df[['label', 'cleaned_text']].rename(columns={'cleaned_text': 'text'})\n",
    "val_df = val_df[['label', 'cleaned_text']].rename(columns={'cleaned_text': 'text'})\n",
    "test_df = test_df[['label', 'cleaned_text']].rename(columns={'cleaned_text': 'text'})\n",
    "\n",
    "# 2. Convert to Dataset objects (with proper validation)\n",
    "train_dataset = Dataset.from_pandas(train_df, preserve_index=False)\n",
    "val_dataset = Dataset.from_pandas(val_df, preserve_index=False)\n",
    "test_dataset = Dataset.from_pandas(test_df, preserve_index=False)"
   ]
  },
  {
   "cell_type": "code",
   "execution_count": 81,
   "id": "fb75c79d-4fff-433a-9fa0-15f56a4913e2",
   "metadata": {},
   "outputs": [
    {
     "data": {
      "application/vnd.jupyter.widget-view+json": {
       "model_id": "d80b74d1db0e4cda86f71e9e7d63fdb8",
       "version_major": 2,
       "version_minor": 0
      },
      "text/plain": [
       "Map:   0%|          | 0/3900 [00:00<?, ? examples/s]"
      ]
     },
     "metadata": {},
     "output_type": "display_data"
    },
    {
     "data": {
      "application/vnd.jupyter.widget-view+json": {
       "model_id": "0fdeb51c436b4830b39412b2923d80b3",
       "version_major": 2,
       "version_minor": 0
      },
      "text/plain": [
       "Map:   0%|          | 0/836 [00:00<?, ? examples/s]"
      ]
     },
     "metadata": {},
     "output_type": "display_data"
    },
    {
     "data": {
      "application/vnd.jupyter.widget-view+json": {
       "model_id": "033be37b74624ac7926af032f433cd4c",
       "version_major": 2,
       "version_minor": 0
      },
      "text/plain": [
       "Map:   0%|          | 0/836 [00:00<?, ? examples/s]"
      ]
     },
     "metadata": {},
     "output_type": "display_data"
    }
   ],
   "source": [
    "# 3. Apply tokenization\n",
    "tokenized_train = train_dataset.map(\n",
    "    tokenize_function,\n",
    "    batched=True,\n",
    "    batch_size=1000,\n",
    "    remove_columns=['text']  # Remove original text after tokenization\n",
    ")\n",
    "\n",
    "tokenized_val = val_dataset.map(\n",
    "    tokenize_function,\n",
    "    batched=True,\n",
    "    batch_size=1000,\n",
    "    remove_columns=['text']\n",
    ")\n",
    "\n",
    "tokenized_test = test_dataset.map(\n",
    "    tokenize_function,\n",
    "    batched=True,\n",
    "    batch_size=1000,\n",
    "    remove_columns=['text']\n",
    ")\n",
    "\n",
    "# 5. Sort only training set by length\n",
    "tokenized_train = tokenized_train.add_column(\n",
    "    \"length\",\n",
    "    [len(x) for x in tokenized_train[\"input_ids\"]]\n",
    ").sort(\"length\")\n",
    "\n",
    "# Final datasets\n",
    "train_dataset = tokenized_train\n",
    "val_dataset = tokenized_val\n",
    "test_dataset = tokenized_test"
   ]
  },
  {
   "cell_type": "code",
   "execution_count": 83,
   "id": "68adf957-fa97-412f-9678-a40c7b3dc679",
   "metadata": {},
   "outputs": [
    {
     "data": {
      "text/plain": [
       "Dataset({\n",
       "    features: ['label', 'input_ids', 'attention_mask', 'length'],\n",
       "    num_rows: 3900\n",
       "})"
      ]
     },
     "execution_count": 83,
     "metadata": {},
     "output_type": "execute_result"
    }
   ],
   "source": [
    "tokenized_train"
   ]
  },
  {
   "cell_type": "code",
   "execution_count": 84,
   "id": "406a053c-018f-402f-878d-df7130bf7108",
   "metadata": {},
   "outputs": [],
   "source": [
    "data_collator = DataCollatorWithPadding(\n",
    "    tokenizer=tokenizer,\n",
    "    padding='longest',  # Pad to longest in batch\n",
    "    max_length=optimal_max_len,  # Safety cap\n",
    "    return_tensors=\"pt\"\n",
    ")"
   ]
  },
  {
   "cell_type": "markdown",
   "id": "dd1fb66b-0553-4830-b17c-a73b2c4eda1b",
   "metadata": {},
   "source": [
    "## Model Initialization"
   ]
  },
  {
   "cell_type": "code",
   "execution_count": 85,
   "id": "0896e843-5c11-4546-b9d3-ded891d76a74",
   "metadata": {},
   "outputs": [
    {
     "name": "stderr",
     "output_type": "stream",
     "text": [
      "Xet Storage is enabled for this repo, but the 'hf_xet' package is not installed. Falling back to regular HTTP download. For better performance, install the package with: `pip install huggingface_hub[hf_xet]` or `pip install hf_xet`\n"
     ]
    },
    {
     "data": {
      "application/vnd.jupyter.widget-view+json": {
       "model_id": "b20971f4a6284096954e1a50e7b02a15",
       "version_major": 2,
       "version_minor": 0
      },
      "text/plain": [
       "model.safetensors:   0%|          | 0.00/499M [00:00<?, ?B/s]"
      ]
     },
     "metadata": {},
     "output_type": "display_data"
    },
    {
     "name": "stderr",
     "output_type": "stream",
     "text": [
      "Some weights of RobertaForSequenceClassification were not initialized from the model checkpoint at FacebookAI/roberta-base and are newly initialized: ['classifier.dense.bias', 'classifier.dense.weight', 'classifier.out_proj.bias', 'classifier.out_proj.weight']\n",
      "You should probably TRAIN this model on a down-stream task to be able to use it for predictions and inference.\n"
     ]
    }
   ],
   "source": [
    "model = RobertaForSequenceClassification.from_pretrained(\n",
    "    'FacebookAI/roberta-base',\n",
    "    num_labels=2,\n",
    "    id2label={0: \"ham\", 1: \"spam\"},\n",
    "    hidden_dropout_prob=0.2,  # Regularization\n",
    "    attention_probs_dropout_prob=0.2\n",
    ")"
   ]
  },
  {
   "cell_type": "markdown",
   "id": "4864baea-69c7-42a6-8175-bf9c9b8fa8e5",
   "metadata": {},
   "source": [
    "## Custom Trainer to use a weighted loss"
   ]
  },
  {
   "cell_type": "code",
   "execution_count": 104,
   "id": "8be91dc4-cecd-4079-9602-57eecdf6d5db",
   "metadata": {},
   "outputs": [],
   "source": [
    "class WeightedTrainer(Trainer):\n",
    "    def __init__(self, class_weights, *args, **kwargs):\n",
    "        super().__init__(*args, **kwargs)\n",
    "        self.class_weights = class_weights.to(kwargs['args'].device)\n",
    "        \n",
    "    def compute_loss(self, model, inputs, return_outputs=False, **kwargs):\n",
    "        labels = inputs.pop(\"labels\")\n",
    "        outputs = model(**inputs)\n",
    "        logits = outputs.logits\n",
    "        loss_fct = nn.CrossEntropyLoss(weight=self.class_weights)\n",
    "        loss = loss_fct(logits.view(-1, self.model.config.num_labels), labels.view(-1))\n",
    "        return (loss, outputs) if return_outputs else loss"
   ]
  },
  {
   "cell_type": "markdown",
   "id": "bf635d39-d7ae-4f28-aded-44a0053b06ef",
   "metadata": {},
   "source": [
    "## Compute metrics function"
   ]
  },
  {
   "cell_type": "code",
   "execution_count": 90,
   "id": "773887f2-ab60-4076-a795-2f5a28e1e4f0",
   "metadata": {},
   "outputs": [],
   "source": [
    "def compute_metrics(eval_pred):\n",
    "    \"\"\"Robust metrics for imbalanced binary classification\"\"\"\n",
    "    logits, labels = eval_pred\n",
    "    predictions = np.argmax(logits, axis=-1)\n",
    "    \n",
    "    # Essential metrics (all weighted by class support)\n",
    "    metrics = {\n",
    "        'accuracy': accuracy_score(labels, predictions),\n",
    "        'f1_weighted': f1_score(labels, predictions, average='weighted'),\n",
    "        'precision_weighted': precision_score(labels, predictions, average='weighted'),\n",
    "        'recall_weighted': recall_score(labels, predictions, average='weighted'),\n",
    "    }\n",
    "    \n",
    "    # Class-specific metrics\n",
    "    metrics.update({\n",
    "        # Spam class (label=1)\n",
    "        'spam_precision': precision_score(labels, predictions, pos_label=1),\n",
    "        'spam_recall': recall_score(labels, predictions, pos_label=1),\n",
    "        'spam_f1': f1_score(labels, predictions, pos_label=1),\n",
    "        \n",
    "        # Ham class (label=0)\n",
    "        'ham_precision': precision_score(labels, predictions, pos_label=0),\n",
    "        'ham_recall': recall_score(labels, predictions, pos_label=0),\n",
    "    })\n",
    "    \n",
    "    # Confusion matrix breakdown\n",
    "    tn, fp, fn, tp = confusion_matrix(labels, predictions).ravel()\n",
    "    metrics.update({\n",
    "        'confusion_matrix': {\n",
    "            'true_negatives': int(tn),  # Correct hams\n",
    "            'false_positives': int(fp), # Hams misclassified as spam (bad)\n",
    "            'false_negatives': int(fn), # Spam missed (very bad)\n",
    "            'true_positives': int(tp),  # Correct spam\n",
    "        },\n",
    "        'false_positive_rate': fp / (fp + tn),  # % of hams flagged as spam\n",
    "        'false_negative_rate': fn / (fn + tp),  # % of spam missed\n",
    "    })\n",
    "    \n",
    "    # Full classification report (string)\n",
    "    metrics['report'] = classification_report(\n",
    "        labels, predictions,\n",
    "        target_names=['ham', 'spam'],\n",
    "        digits=4\n",
    "    )\n",
    "    \n",
    "    return metrics"
   ]
  },
  {
   "cell_type": "markdown",
   "id": "79f5686a-f317-4708-83d5-7a34ba5ffebe",
   "metadata": {},
   "source": [
    "## Training Configuration"
   ]
  },
  {
   "cell_type": "code",
   "execution_count": 94,
   "id": "d9bf3c4d-c4fa-4e83-8246-bc18fe682297",
   "metadata": {},
   "outputs": [],
   "source": [
    "training_args = TrainingArguments(\n",
    "    # Directory\n",
    "    output_dir='./results',\n",
    "    \n",
    "    # Training\n",
    "    num_train_epochs=5,  \n",
    "    per_device_train_batch_size=32,\n",
    "    gradient_accumulation_steps=2,\n",
    "    \n",
    "    # Optimization\n",
    "    learning_rate=2e-5,\n",
    "    weight_decay=0.02,\n",
    "    \n",
    "    # Evaluation\n",
    "    eval_strategy=\"steps\",\n",
    "    eval_steps=200,\n",
    "    save_strategy=\"steps\",\n",
    "    save_steps=200,\n",
    "    metric_for_best_model=\"eval_spam_recall\",\n",
    "    greater_is_better=True,\n",
    "    load_best_model_at_end=True,\n",
    "    \n",
    "    # Hardware\n",
    "    fp16=True,\n",
    "    per_device_eval_batch_size=64,\n",
    "    report_to=\"none\",\n",
    "    \n",
    "    # logging\n",
    "    logging_steps=50,\n",
    "    logging_dir='./logs',\n",
    "    save_total_limit=2,\n",
    ")"
   ]
  },
  {
   "cell_type": "code",
   "execution_count": 105,
   "id": "965d6d1f-2ea0-43ec-b466-540d1a7036a1",
   "metadata": {},
   "outputs": [],
   "source": [
    "trainer = WeightedTrainer(\n",
    "    model=model,\n",
    "    args=training_args,\n",
    "    train_dataset=train_dataset,\n",
    "    eval_dataset=val_dataset,\n",
    "    data_collator=data_collator,\n",
    "    compute_metrics=compute_metrics,\n",
    "    class_weights=class_weights\n",
    ")"
   ]
  },
  {
   "cell_type": "code",
   "execution_count": null,
   "id": "794f9c84-f263-4a25-afc8-fc53b90fb5e1",
   "metadata": {},
   "outputs": [],
   "source": [
    "# Start training (with class weights)\n",
    "# trainer.train()"
   ]
  },
  {
   "cell_type": "code",
   "execution_count": null,
   "id": "516e2642-cf92-49ea-8c2c-4196618c18d1",
   "metadata": {},
   "outputs": [],
   "source": [
    "# Evaluate on test set\n",
    "test_results = trainer.evaluate(test_dataset)\n",
    "print(f\"Final Test Metrics: {test_results}\")\n",
    "\n",
    "# Save the best model (based on eval_spam_recall)\n",
    "trainer.save_model(\"best_spam_classifier\")\n",
    "tokenizer.save_pretrained(\"best_spam_classifier\")"
   ]
  }
 ],
 "metadata": {
  "kernelspec": {
   "display_name": "Python 3 (ipykernel)",
   "language": "python",
   "name": "python3"
  },
  "language_info": {
   "codemirror_mode": {
    "name": "ipython",
    "version": 3
   },
   "file_extension": ".py",
   "mimetype": "text/x-python",
   "name": "python",
   "nbconvert_exporter": "python",
   "pygments_lexer": "ipython3",
   "version": "3.10.18"
  }
 },
 "nbformat": 4,
 "nbformat_minor": 5
}
